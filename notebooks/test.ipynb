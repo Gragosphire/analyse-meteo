{
 "cells": [
  {
   "cell_type": "code",
   "execution_count": 1,
   "id": "f7491eea",
   "metadata": {},
   "outputs": [
    {
     "data": {
      "image/png": "[encoded data removed]",
      "text/plain": [
       "<Figure size 640x480 with 1 Axes>"
      ]
     },
     "metadata": {},
     "output_type": "display_data"
    }
   ],
   "source": [
    "import numpy as np\n",
    "import matplotlib.pyplot as plt\n",
    "import pandas\n",
    "import csv\n",
    "\n",
    "tips = pandas.read_csv(\"C:\\\\Users\\etudiant\\\\Desktop\\\\TP3GL6\\\\analyse-meteo\\\\data\\\\donne_meteo.csv\", header=0, sep=\";\")\n",
    "\n",
    "montant = []\n",
    "\n",
    "with open(\"C:\\\\Users\\etudiant\\\\Desktop\\\\TP3GL6\\\\analyse-meteo\\\\data\\\\donne_meteo.csv\", \"r\") as data:\n",
    "    lecteur_csv = csv.reader(data, delimiter=\";\")\n",
    "    \n",
    "    for row in lecteur_csv:\n",
    "        montant.append(row[5])\n",
    "\n",
    "montant = [value for value in montant if value != \"Direction du vent moyen 10 mn\" and value != \"\"]\n",
    "\n",
    "montant = [float(i) for i in montant]\n",
    "print(montant)\n",
    "moy = sum(montant)/len(montant)\n",
    "print(moy)\n",
    "\n",
    "\n",
    "def moy(liste):\n",
    "    somme = 0\n",
    "    total = len(liste)\n",
    "    for i in range(0, total, 1):\n",
    "        somme = somme + liste[i]\n",
    "    return somme / total\n",
    "\n",
    "print(\"P : La moyenne est : \", moy(montant))\n",
    "\n",
    "def var(liste):\n",
    "    scarre = 0\n",
    "    somme = 0\n",
    "    total = len(liste)\n",
    "    for i in range(0,total, 1):\n",
    "        scarre = scarre + liste[i]**2\n",
    "    for i in range(0, total, 1):\n",
    "        somme = somme + liste[i]\n",
    "    return scarre/total - somme**2/total**2\n",
    "\n",
    "print(\"P : La variance est : \", var(montant))\n",
    "\n",
    "def ecart_type(liste):\n",
    "    return np.sqrt(var(liste))\n",
    "\n",
    "print(\"P : L'écart-type est : \", ecart_type(montant))"
   ]
  },
  {
   "cell_type": "code",
   "execution_count": null,
   "id": "051559f2",
   "metadata": {},
   "outputs": [],
   "source": []
  }
 ],
 "metadata": {
  "kernelspec": {
   "display_name": "Python 3 (ipykernel)",
   "language": "python",
   "name": "python3"
  },
  "language_info": {
   "codemirror_mode": {
    "name": "ipython",
    "version": 3
   },
   "file_extension": ".py",
   "mimetype": "text/x-python",
   "name": "python",
   "nbconvert_exporter": "python",
   "pygments_lexer": "ipython3",
   "version": "3.11.5"
  }
 },
 "nbformat": 4,
 "nbformat_minor": 5
}
